{
  "nbformat": 4,
  "nbformat_minor": 0,
  "metadata": {
    "colab": {
      "name": "Simple ANN.ipynb",
      "provenance": [],
      "collapsed_sections": [],
      "authorship_tag": "ABX9TyOcjT839MV6wpBtR0Z5yUM7",
      "include_colab_link": true
    },
    "kernelspec": {
      "name": "python3",
      "display_name": "Python 3"
    }
  },
  "cells": [
    {
      "cell_type": "markdown",
      "metadata": {
        "id": "view-in-github",
        "colab_type": "text"
      },
      "source": [
        "<a href=\"https://colab.research.google.com/github/rizqyilmi/python-class/blob/main/Simple_ANN.ipynb\" target=\"_parent\"><img src=\"https://colab.research.google.com/assets/colab-badge.svg\" alt=\"Open In Colab\"/></a>"
      ]
    },
    {
      "cell_type": "code",
      "metadata": {
        "id": "P9VdffbdNNNV"
      },
      "source": [
        "import numpy as np\n",
        "\n"
      ],
      "execution_count": 5,
      "outputs": []
    },
    {
      "cell_type": "code",
      "metadata": {
        "id": "LwgigJZpPssH"
      },
      "source": [
        "def sigmoid(x):\n",
        "  return 1/(1+np.exp(-x))"
      ],
      "execution_count": 3,
      "outputs": []
    },
    {
      "cell_type": "code",
      "metadata": {
        "colab": {
          "base_uri": "https://localhost:8080/"
        },
        "id": "5Gp8S4moP6TN",
        "outputId": "ca75e8dc-309e-4cea-b72b-603a25a60155"
      },
      "source": [
        "training_inputs = np.array([[0,0,1],\n",
        "                            [1,1,1],\n",
        "                            [1,0,1],\n",
        "                            [0,1,1]])\n",
        "print(training_inputs)"
      ],
      "execution_count": 7,
      "outputs": [
        {
          "output_type": "stream",
          "text": [
            "[[0 0 1]\n",
            " [1 1 1]\n",
            " [1 0 1]\n",
            " [0 1 1]]\n"
          ],
          "name": "stdout"
        }
      ]
    },
    {
      "cell_type": "code",
      "metadata": {
        "colab": {
          "base_uri": "https://localhost:8080/"
        },
        "id": "UuR2S2d8YW23",
        "outputId": "c41c6e23-ac56-4a78-d1fc-739de466b742"
      },
      "source": [
        "training_outputs = np.array([[0,1,1,0]]).T\n",
        "print(training_outputs)"
      ],
      "execution_count": 9,
      "outputs": [
        {
          "output_type": "stream",
          "text": [
            "[[0]\n",
            " [1]\n",
            " [1]\n",
            " [0]]\n"
          ],
          "name": "stdout"
        }
      ]
    },
    {
      "cell_type": "code",
      "metadata": {
        "colab": {
          "base_uri": "https://localhost:8080/"
        },
        "id": "kr6cp_R4ZsDe",
        "outputId": "64426941-a2bc-4928-a8e7-7c2da70c0988"
      },
      "source": [
        "np.random.seed(1)\n",
        "synaptic_weights = 2 * np.random.random((3, 1)) -1\n",
        "synaptic_weights"
      ],
      "execution_count": 13,
      "outputs": [
        {
          "output_type": "execute_result",
          "data": {
            "text/plain": [
              "array([[-0.16595599],\n",
              "       [ 0.44064899],\n",
              "       [-0.99977125]])"
            ]
          },
          "metadata": {
            "tags": []
          },
          "execution_count": 13
        }
      ]
    },
    {
      "cell_type": "code",
      "metadata": {
        "id": "LaOQ-ZF1aMaC"
      },
      "source": [
        "for iteration in range(1):\n",
        "  input_layer = training_inputs\n",
        "  outputs = sigmoid(np.dot(input_layer, synaptic_weights))\n",
        "\n"
      ],
      "execution_count": 14,
      "outputs": []
    },
    {
      "cell_type": "code",
      "metadata": {
        "colab": {
          "base_uri": "https://localhost:8080/"
        },
        "id": "ujFC4hIGbOwi",
        "outputId": "f2357541-213e-44fb-8f9f-b619621f722b"
      },
      "source": [
        "print('Output after training')\n",
        "print(outputs)"
      ],
      "execution_count": 15,
      "outputs": [
        {
          "output_type": "stream",
          "text": [
            "Output after training\n",
            "[[0.2689864 ]\n",
            " [0.3262757 ]\n",
            " [0.23762817]\n",
            " [0.36375058]]\n"
          ],
          "name": "stdout"
        }
      ]
    },
    {
      "cell_type": "code",
      "metadata": {
        "id": "C9P_frE1bW1h"
      },
      "source": [
        ""
      ],
      "execution_count": null,
      "outputs": []
    }
  ]
}